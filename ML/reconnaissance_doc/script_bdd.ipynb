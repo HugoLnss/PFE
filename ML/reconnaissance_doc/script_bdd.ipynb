{
 "cells": [
  {
   "cell_type": "code",
   "execution_count": 1,
   "metadata": {},
   "outputs": [],
   "source": [
    "import numpy as np \n",
    "import pandas as pd \n"
   ]
  },
  {
   "cell_type": "code",
   "execution_count": 2,
   "metadata": {},
   "outputs": [
    {
     "name": "stdout",
     "output_type": "stream",
     "text": [
      "C:/Users/hugol/Desktop/cours_ece/PFE/PFE/ML/BDD_entrainement/ordonnance\\ordognr.png\n",
      "C:/Users/hugol/Desktop/cours_ece/PFE/PFE/ML/BDD_entrainement/ordonnance\\ordonnance-pharmacie-1.png\n"
     ]
    }
   ],
   "source": [
    "import os\n",
    "for dirname, _, filenames in os.walk('C:/Users/hugol/Desktop/cours_ece/PFE/PFE/ML/BDD_entrainement/ordonnance' ) :\n",
    "    for filename in filenames:\n",
    "        print(os.path.join(dirname, filename))"
   ]
  },
  {
   "cell_type": "code",
   "execution_count": 3,
   "metadata": {},
   "outputs": [],
   "source": [
    "#!pip install -q keras-ocr\n",
    "from IPython.display import clear_output   \n",
    "clear_output()"
   ]
  },
  {
   "cell_type": "code",
   "execution_count": 4,
   "metadata": {},
   "outputs": [],
   "source": [
    "#pip install --upgrade keras-ocr"
   ]
  },
  {
   "cell_type": "code",
   "execution_count": 5,
   "metadata": {},
   "outputs": [],
   "source": [
    "#pip install --upgrade tensorflow\n"
   ]
  },
  {
   "cell_type": "code",
   "execution_count": 6,
   "metadata": {},
   "outputs": [
    {
     "name": "stdout",
     "output_type": "stream",
     "text": [
      "WARNING:tensorflow:From c:\\Users\\hugol\\AppData\\Local\\Programs\\Python\\Python310\\lib\\site-packages\\keras\\src\\losses.py:2976: The name tf.losses.sparse_softmax_cross_entropy is deprecated. Please use tf.compat.v1.losses.sparse_softmax_cross_entropy instead.\n",
      "\n"
     ]
    }
   ],
   "source": [
    "import tensorflow"
   ]
  },
  {
   "cell_type": "code",
   "execution_count": 7,
   "metadata": {},
   "outputs": [
    {
     "name": "stdout",
     "output_type": "stream",
     "text": [
      "WARNING:tensorflow:From c:\\Users\\hugol\\AppData\\Local\\Programs\\Python\\Python310\\lib\\site-packages\\keras\\src\\backend.py:873: The name tf.get_default_graph is deprecated. Please use tf.compat.v1.get_default_graph instead.\n",
      "\n"
     ]
    }
   ],
   "source": [
    "import keras_ocr\n",
    "import matplotlib.pyplot as plt"
   ]
  },
  {
   "cell_type": "code",
   "execution_count": 8,
   "metadata": {},
   "outputs": [
    {
     "name": "stdout",
     "output_type": "stream",
     "text": [
      "Looking for C:\\Users\\hugol\\.keras-ocr\\craft_mlt_25k.h5\n"
     ]
    },
    {
     "name": "stdout",
     "output_type": "stream",
     "text": [
      "WARNING:tensorflow:From c:\\Users\\hugol\\AppData\\Local\\Programs\\Python\\Python310\\lib\\site-packages\\keras\\src\\layers\\normalization\\batch_normalization.py:979: The name tf.nn.fused_batch_norm is deprecated. Please use tf.compat.v1.nn.fused_batch_norm instead.\n",
      "\n",
      "WARNING:tensorflow:From c:\\Users\\hugol\\AppData\\Local\\Programs\\Python\\Python310\\lib\\site-packages\\tensorflow\\python\\util\\dispatch.py:1260: resize_bilinear (from tensorflow.python.ops.image_ops_impl) is deprecated and will be removed in a future version.\n",
      "Instructions for updating:\n",
      "Use `tf.image.resize(...method=ResizeMethod.BILINEAR...)` instead.\n",
      "WARNING:tensorflow:From c:\\Users\\hugol\\AppData\\Local\\Programs\\Python\\Python310\\lib\\site-packages\\keras\\src\\optimizers\\__init__.py:309: The name tf.train.Optimizer is deprecated. Please use tf.compat.v1.train.Optimizer instead.\n",
      "\n",
      "Looking for C:\\Users\\hugol\\.keras-ocr\\crnn_kurapan.h5\n"
     ]
    }
   ],
   "source": [
    "pipeline = keras_ocr.pipeline.Pipeline()"
   ]
  },
  {
   "cell_type": "code",
   "execution_count": 9,
   "metadata": {},
   "outputs": [
    {
     "name": "stdout",
     "output_type": "stream",
     "text": [
      "1/1 [==============================] - 12s 12s/step\n",
      "4/4 [==============================] - 7s 1s/step\n"
     ]
    }
   ],
   "source": [
    "import os\n",
    "from keras_ocr.tools import read\n",
    "import numpy as np\n",
    "\n",
    "# Chemin du dossier contenant les images\n",
    "dossier_images = 'C:/Users/hugol/Desktop/cours_ece/PFE/PFE/ML/BDD_entrainement/ordonnance'\n",
    "\n",
    "# Liste tous les fichiers dans le dossier\n",
    "fichiers_images = [fichier for fichier in os.listdir(dossier_images) if fichier.endswith(('.png', '.jpg', '.jpeg'))]\n",
    "\n",
    "# Lit chaque image et stocke le résultat dans la liste images\n",
    "images = [read(os.path.join(dossier_images, img)) for img in fichiers_images]\n",
    "\n",
    "# Filtrer les images vides\n",
    "images = [img for img in images if img.shape[0] > 0 and img.shape[1] > 0]\n",
    "\n",
    "# Vérifier que des images sont présentes avant d'appeler recognize\n",
    "if images:\n",
    "    # generate text predictions from the images\n",
    "    prediction_groups = pipeline.recognize(images)\n",
    "else:\n",
    "    print(\"Aucune image valide trouvée dans le dossier.\")\n"
   ]
  },
  {
   "cell_type": "code",
   "execution_count": 10,
   "metadata": {},
   "outputs": [],
   "source": [
    "mots=[]\n",
    "for i in range(len(prediction_groups)):\n",
    "    mots.append([])\n",
    "    predicted_image = prediction_groups[i]\n",
    "    for text, box in predicted_image:\n",
    "        mots[i].append(text)"
   ]
  },
  {
   "cell_type": "code",
   "execution_count": 11,
   "metadata": {},
   "outputs": [],
   "source": [
    "labels=[]\n",
    "for i in range(len(mots)):\n",
    "    labels.append(\"ordonnances\")"
   ]
  },
  {
   "cell_type": "markdown",
   "metadata": {},
   "source": [
    "import keras_ocr\n",
    "import matplotlib.pyplot as plt\n",
    "pipeline = keras_ocr.pipeline.Pipeline()\n",
    "import os\n",
    "from keras_ocr.tools import read\n",
    "import numpy as np\n",
    "\n",
    "# Chemin du dossier contenant les images\n",
    "dossier_images = 'C:/Users/hugol/Desktop/cours_ece/PFE/PFE/ML/BDD_entrainement/papier_identite'\n",
    "\n",
    "# Liste des fichiers d'images dans le dossier\n",
    "fichiers_images = [fichier for fichier in os.listdir(dossier_images) if fichier.endswith(('.png', '.jpg', '.jpeg'))]\n",
    "\n",
    "# Lit chaque image et stocke le résultat dans la liste images\n",
    "images = [read(os.path.join(dossier_images, img)) for img in fichiers_images]\n",
    "\n",
    "# Filtrer les images vides\n",
    "images = [img for img in images if img.shape[0] > 0 and img.shape[1] > 0]\n",
    "\n",
    "# Vérifier que des images sont présentes avant d'appeler recognize\n",
    "if images:\n",
    "    # generate text predictions from the images\n",
    "    prediction_groups = pipeline.recognize(images)\n",
    "else:\n",
    "    print(\"Aucune image valide trouvée dans le dossier.\")\n",
    "\n",
    "mots=[]\n",
    "for i in range(len(prediction_groups)):\n",
    "    mots.append([])\n",
    "    predicted_image = prediction_groups[i]\n",
    "    for text, box in predicted_image:\n",
    "        mots[i].append(text)\n",
    "labels=[]\n",
    "for i in range(len(mots)):\n",
    "    labels.append(\"Papier d'identité\")"
   ]
  },
  {
   "cell_type": "code",
   "execution_count": 3,
   "metadata": {},
   "outputs": [
    {
     "name": "stdout",
     "output_type": "stream",
     "text": [
      "WARNING:tensorflow:From c:\\Users\\hugol\\AppData\\Local\\Programs\\Python\\Python310\\lib\\site-packages\\keras\\src\\losses.py:2976: The name tf.losses.sparse_softmax_cross_entropy is deprecated. Please use tf.compat.v1.losses.sparse_softmax_cross_entropy instead.\n",
      "\n",
      "WARNING:tensorflow:From c:\\Users\\hugol\\AppData\\Local\\Programs\\Python\\Python310\\lib\\site-packages\\keras\\src\\backend.py:873: The name tf.get_default_graph is deprecated. Please use tf.compat.v1.get_default_graph instead.\n",
      "\n",
      "Image 'C:/Users/hugol/Desktop/cours_ece/PFE/PFE/ML/BDD_entrainement/papier_identite\\504392516_small.jpg' lue avec succès.\n",
      "Image 'C:/Users/hugol/Desktop/cours_ece/PFE/PFE/ML/BDD_entrainement/papier_identite\\CNI COQUIN ISABELLE.jpg' lue avec succès.\n",
      "Image 'C:/Users/hugol/Desktop/cours_ece/PFE/PFE/ML/BDD_entrainement/papier_identite\\images (1).jpg' lue avec succès.\n",
      "Image 'C:/Users/hugol/Desktop/cours_ece/PFE/PFE/ML/BDD_entrainement/papier_identite\\images (10).jpg' lue avec succès.\n",
      "Image 'C:/Users/hugol/Desktop/cours_ece/PFE/PFE/ML/BDD_entrainement/papier_identite\\images (11).jpg' lue avec succès.\n",
      "Image 'C:/Users/hugol/Desktop/cours_ece/PFE/PFE/ML/BDD_entrainement/papier_identite\\images (12).jpg' lue avec succès.\n",
      "Image 'C:/Users/hugol/Desktop/cours_ece/PFE/PFE/ML/BDD_entrainement/papier_identite\\images (13).jpg' lue avec succès.\n",
      "Image 'C:/Users/hugol/Desktop/cours_ece/PFE/PFE/ML/BDD_entrainement/papier_identite\\images (14).jpg' lue avec succès.\n",
      "Image 'C:/Users/hugol/Desktop/cours_ece/PFE/PFE/ML/BDD_entrainement/papier_identite\\images (15).jpg' lue avec succès.\n",
      "Image 'C:/Users/hugol/Desktop/cours_ece/PFE/PFE/ML/BDD_entrainement/papier_identite\\images (16).jpg' lue avec succès.\n",
      "Image 'C:/Users/hugol/Desktop/cours_ece/PFE/PFE/ML/BDD_entrainement/papier_identite\\images (17).jpg' lue avec succès.\n",
      "Image 'C:/Users/hugol/Desktop/cours_ece/PFE/PFE/ML/BDD_entrainement/papier_identite\\images (18).jpg' lue avec succès.\n",
      "Image 'C:/Users/hugol/Desktop/cours_ece/PFE/PFE/ML/BDD_entrainement/papier_identite\\images (19).jpg' lue avec succès.\n",
      "Image 'C:/Users/hugol/Desktop/cours_ece/PFE/PFE/ML/BDD_entrainement/papier_identite\\images (2).jpg' lue avec succès.\n",
      "Image 'C:/Users/hugol/Desktop/cours_ece/PFE/PFE/ML/BDD_entrainement/papier_identite\\images (20).jpg' lue avec succès.\n",
      "Image 'C:/Users/hugol/Desktop/cours_ece/PFE/PFE/ML/BDD_entrainement/papier_identite\\images (21).jpg' lue avec succès.\n",
      "Image 'C:/Users/hugol/Desktop/cours_ece/PFE/PFE/ML/BDD_entrainement/papier_identite\\images (22).jpg' lue avec succès.\n",
      "Image 'C:/Users/hugol/Desktop/cours_ece/PFE/PFE/ML/BDD_entrainement/papier_identite\\images (3).jpg' lue avec succès.\n",
      "Image 'C:/Users/hugol/Desktop/cours_ece/PFE/PFE/ML/BDD_entrainement/papier_identite\\images (4).jpg' lue avec succès.\n",
      "Image 'C:/Users/hugol/Desktop/cours_ece/PFE/PFE/ML/BDD_entrainement/papier_identite\\images (5).jpg' lue avec succès.\n",
      "Image 'C:/Users/hugol/Desktop/cours_ece/PFE/PFE/ML/BDD_entrainement/papier_identite\\images (6).jpg' lue avec succès.\n",
      "Image 'C:/Users/hugol/Desktop/cours_ece/PFE/PFE/ML/BDD_entrainement/papier_identite\\images (7).jpg' lue avec succès.\n",
      "Image 'C:/Users/hugol/Desktop/cours_ece/PFE/PFE/ML/BDD_entrainement/papier_identite\\images (8).jpg' lue avec succès.\n",
      "Image 'C:/Users/hugol/Desktop/cours_ece/PFE/PFE/ML/BDD_entrainement/papier_identite\\images (9).jpg' lue avec succès.\n",
      "Image 'C:/Users/hugol/Desktop/cours_ece/PFE/PFE/ML/BDD_entrainement/papier_identite\\images.jpg' lue avec succès.\n",
      "Image 'C:/Users/hugol/Desktop/cours_ece/PFE/PFE/ML/BDD_entrainement/papier_identite\\main-qimg-51e506af06e7583536f744e9e689863a-pjlq.jpg' lue avec succès.\n",
      "Image 'C:/Users/hugol/Desktop/cours_ece/PFE/PFE/ML/BDD_entrainement/papier_identite\\passeport_biometrique (1).jpg' lue avec succès.\n",
      "Image 'C:/Users/hugol/Desktop/cours_ece/PFE/PFE/ML/BDD_entrainement/papier_identite\\passeport_biometrique.jpg' lue avec succès.\n",
      "Image 'C:/Users/hugol/Desktop/cours_ece/PFE/PFE/ML/BDD_entrainement/papier_identite\\permis-rose.jpg' lue avec succès.\n",
      "Image 'C:/Users/hugol/Desktop/cours_ece/PFE/PFE/ML/BDD_entrainement/papier_identite\\th (1).jpg' lue avec succès.\n",
      "Image 'C:/Users/hugol/Desktop/cours_ece/PFE/PFE/ML/BDD_entrainement/papier_identite\\th (10).jpg' lue avec succès.\n",
      "Image 'C:/Users/hugol/Desktop/cours_ece/PFE/PFE/ML/BDD_entrainement/papier_identite\\th (11).jpg' lue avec succès.\n",
      "Image 'C:/Users/hugol/Desktop/cours_ece/PFE/PFE/ML/BDD_entrainement/papier_identite\\th (12).jpg' lue avec succès.\n",
      "Image 'C:/Users/hugol/Desktop/cours_ece/PFE/PFE/ML/BDD_entrainement/papier_identite\\th (13).jpg' lue avec succès.\n",
      "Image 'C:/Users/hugol/Desktop/cours_ece/PFE/PFE/ML/BDD_entrainement/papier_identite\\th (14).jpg' lue avec succès.\n",
      "Image 'C:/Users/hugol/Desktop/cours_ece/PFE/PFE/ML/BDD_entrainement/papier_identite\\th (15).jpg' lue avec succès.\n",
      "Image 'C:/Users/hugol/Desktop/cours_ece/PFE/PFE/ML/BDD_entrainement/papier_identite\\th (16).jpg' lue avec succès.\n",
      "Image 'C:/Users/hugol/Desktop/cours_ece/PFE/PFE/ML/BDD_entrainement/papier_identite\\th (2).jpg' lue avec succès.\n",
      "Image 'C:/Users/hugol/Desktop/cours_ece/PFE/PFE/ML/BDD_entrainement/papier_identite\\th (3).jpg' lue avec succès.\n",
      "Image 'C:/Users/hugol/Desktop/cours_ece/PFE/PFE/ML/BDD_entrainement/papier_identite\\th (4).jpg' lue avec succès.\n",
      "Image 'C:/Users/hugol/Desktop/cours_ece/PFE/PFE/ML/BDD_entrainement/papier_identite\\th (5).jpg' lue avec succès.\n",
      "Image 'C:/Users/hugol/Desktop/cours_ece/PFE/PFE/ML/BDD_entrainement/papier_identite\\th (6).jpg' lue avec succès.\n",
      "Image 'C:/Users/hugol/Desktop/cours_ece/PFE/PFE/ML/BDD_entrainement/papier_identite\\th (7).jpg' lue avec succès.\n",
      "Image 'C:/Users/hugol/Desktop/cours_ece/PFE/PFE/ML/BDD_entrainement/papier_identite\\th (8).jpg' lue avec succès.\n",
      "Image 'C:/Users/hugol/Desktop/cours_ece/PFE/PFE/ML/BDD_entrainement/papier_identite\\th (9).jpg' lue avec succès.\n",
      "Image 'C:/Users/hugol/Desktop/cours_ece/PFE/PFE/ML/BDD_entrainement/papier_identite\\th.jpg' lue avec succès.\n",
      "Erreur lors de la lecture de l'image 'C:/Users/hugol/Desktop/cours_ece/PFE/PFE/ML/BDD_entrainement/papier_identite\\téléchargement (1).jpg': OpenCV(4.9.0) D:\\a\\opencv-python\\opencv-python\\opencv\\modules\\imgproc\\src\\color.cpp:196: error: (-215:Assertion failed) !_src.empty() in function 'cv::cvtColor'\n",
      "\n",
      "Erreur lors de la lecture de l'image 'C:/Users/hugol/Desktop/cours_ece/PFE/PFE/ML/BDD_entrainement/papier_identite\\téléchargement (2).jpg': OpenCV(4.9.0) D:\\a\\opencv-python\\opencv-python\\opencv\\modules\\imgproc\\src\\color.cpp:196: error: (-215:Assertion failed) !_src.empty() in function 'cv::cvtColor'\n",
      "\n",
      "Erreur lors de la lecture de l'image 'C:/Users/hugol/Desktop/cours_ece/PFE/PFE/ML/BDD_entrainement/papier_identite\\téléchargement (3).jpg': OpenCV(4.9.0) D:\\a\\opencv-python\\opencv-python\\opencv\\modules\\imgproc\\src\\color.cpp:196: error: (-215:Assertion failed) !_src.empty() in function 'cv::cvtColor'\n",
      "\n",
      "Erreur lors de la lecture de l'image 'C:/Users/hugol/Desktop/cours_ece/PFE/PFE/ML/BDD_entrainement/papier_identite\\téléchargement (4).jpg': OpenCV(4.9.0) D:\\a\\opencv-python\\opencv-python\\opencv\\modules\\imgproc\\src\\color.cpp:196: error: (-215:Assertion failed) !_src.empty() in function 'cv::cvtColor'\n",
      "\n",
      "Erreur lors de la lecture de l'image 'C:/Users/hugol/Desktop/cours_ece/PFE/PFE/ML/BDD_entrainement/papier_identite\\téléchargement (5).jpg': OpenCV(4.9.0) D:\\a\\opencv-python\\opencv-python\\opencv\\modules\\imgproc\\src\\color.cpp:196: error: (-215:Assertion failed) !_src.empty() in function 'cv::cvtColor'\n",
      "\n",
      "Erreur lors de la lecture de l'image 'C:/Users/hugol/Desktop/cours_ece/PFE/PFE/ML/BDD_entrainement/papier_identite\\téléchargement (6).jpg': OpenCV(4.9.0) D:\\a\\opencv-python\\opencv-python\\opencv\\modules\\imgproc\\src\\color.cpp:196: error: (-215:Assertion failed) !_src.empty() in function 'cv::cvtColor'\n",
      "\n",
      "Erreur lors de la lecture de l'image 'C:/Users/hugol/Desktop/cours_ece/PFE/PFE/ML/BDD_entrainement/papier_identite\\téléchargement (7).jpg': OpenCV(4.9.0) D:\\a\\opencv-python\\opencv-python\\opencv\\modules\\imgproc\\src\\color.cpp:196: error: (-215:Assertion failed) !_src.empty() in function 'cv::cvtColor'\n",
      "\n",
      "Erreur lors de la lecture de l'image 'C:/Users/hugol/Desktop/cours_ece/PFE/PFE/ML/BDD_entrainement/papier_identite\\téléchargement (8).jpg': OpenCV(4.9.0) D:\\a\\opencv-python\\opencv-python\\opencv\\modules\\imgproc\\src\\color.cpp:196: error: (-215:Assertion failed) !_src.empty() in function 'cv::cvtColor'\n",
      "\n",
      "Erreur lors de la lecture de l'image 'C:/Users/hugol/Desktop/cours_ece/PFE/PFE/ML/BDD_entrainement/papier_identite\\téléchargement (9).jpg': OpenCV(4.9.0) D:\\a\\opencv-python\\opencv-python\\opencv\\modules\\imgproc\\src\\color.cpp:196: error: (-215:Assertion failed) !_src.empty() in function 'cv::cvtColor'\n",
      "\n",
      "Erreur lors de la lecture de l'image 'C:/Users/hugol/Desktop/cours_ece/PFE/PFE/ML/BDD_entrainement/papier_identite\\téléchargement.jpg': OpenCV(4.9.0) D:\\a\\opencv-python\\opencv-python\\opencv\\modules\\imgproc\\src\\color.cpp:196: error: (-215:Assertion failed) !_src.empty() in function 'cv::cvtColor'\n",
      "\n",
      "Image 'C:/Users/hugol/Desktop/cours_ece/PFE/PFE/ML/BDD_entrainement/papier_identite\\x1080.jpg' lue avec succès.\n",
      "Looking for C:\\Users\\hugol\\.keras-ocr\\craft_mlt_25k.h5\n",
      "WARNING:tensorflow:From c:\\Users\\hugol\\AppData\\Local\\Programs\\Python\\Python310\\lib\\site-packages\\keras\\src\\layers\\normalization\\batch_normalization.py:979: The name tf.nn.fused_batch_norm is deprecated. Please use tf.compat.v1.nn.fused_batch_norm instead.\n",
      "\n",
      "WARNING:tensorflow:From c:\\Users\\hugol\\AppData\\Local\\Programs\\Python\\Python310\\lib\\site-packages\\tensorflow\\python\\util\\dispatch.py:1260: resize_bilinear (from tensorflow.python.ops.image_ops_impl) is deprecated and will be removed in a future version.\n",
      "Instructions for updating:\n",
      "Use `tf.image.resize(...method=ResizeMethod.BILINEAR...)` instead.\n",
      "WARNING:tensorflow:From c:\\Users\\hugol\\AppData\\Local\\Programs\\Python\\Python310\\lib\\site-packages\\keras\\src\\optimizers\\__init__.py:309: The name tf.train.Optimizer is deprecated. Please use tf.compat.v1.train.Optimizer instead.\n",
      "\n",
      "Looking for C:\\Users\\hugol\\.keras-ocr\\crnn_kurapan.h5\n"
     ]
    },
    {
     "ename": "",
     "evalue": "",
     "output_type": "error",
     "traceback": [
      "\u001b[1;31mThe Kernel crashed while executing code in the the current cell or a previous cell. Please review the code in the cell(s) to identify a possible cause of the failure. Click <a href='https://aka.ms/vscodeJupyterKernelCrash'>here</a> for more info. View Jupyter <a href='command:jupyter.viewOutput'>log</a> for further details."
     ]
    }
   ],
   "source": [
    "import keras_ocr\n",
    "import os\n",
    "from keras_ocr.tools import read\n",
    "\n",
    "# Chemin du dossier contenant les images\n",
    "dossier_images = 'C:/Users/hugol/Desktop/cours_ece/PFE/PFE/ML/BDD_entrainement/papier_identite'\n",
    "\n",
    "# Liste des fichiers d'images dans le dossier\n",
    "fichiers_images = [fichier for fichier in os.listdir(dossier_images) if fichier.endswith(('.png', '.jpg', '.jpeg'))]\n",
    "\n",
    "# Lit chaque image et stocke le résultat dans la liste images\n",
    "images = []\n",
    "for img in fichiers_images:\n",
    "    image_path = os.path.join(dossier_images, img)\n",
    "    try:\n",
    "        img = read(image_path)\n",
    "        images.append(img)\n",
    "        print(f\"Image '{image_path}' lue avec succès.\")\n",
    "    except Exception as e:\n",
    "        print(f\"Erreur lors de la lecture de l'image '{image_path}': {str(e)}\")\n",
    "\n",
    "# Filtrer les images vides\n",
    "images = [img for img in images if img.shape[0] > 0 and img.shape[1] > 0]\n",
    "\n",
    "# Vérifier que des images sont présentes avant d'appeler recognize\n",
    "if images:\n",
    "    # generate text predictions from the images\n",
    "    pipeline = keras_ocr.pipeline.Pipeline()\n",
    "    prediction_groups = pipeline.recognize(images)\n",
    "else:\n",
    "    print(\"Aucune image valide trouvée dans le dossier.\")\n"
   ]
  },
  {
   "cell_type": "code",
   "execution_count": 2,
   "metadata": {},
   "outputs": [
    {
     "name": "stderr",
     "output_type": "stream",
     "text": [
      "'pip' n'est pas reconnu en tant que commande interne\n",
      "ou externe, un programme ex�cutable ou un fichier de commandes.\n"
     ]
    }
   ],
   "source": [
    "#On concatene toutes les listes\n",
    "\n"
   ]
  },
  {
   "cell_type": "code",
   "execution_count": null,
   "metadata": {},
   "outputs": [
    {
     "data": {
      "text/html": [
       "<div>\n",
       "<style scoped>\n",
       "    .dataframe tbody tr th:only-of-type {\n",
       "        vertical-align: middle;\n",
       "    }\n",
       "\n",
       "    .dataframe tbody tr th {\n",
       "        vertical-align: top;\n",
       "    }\n",
       "\n",
       "    .dataframe thead th {\n",
       "        text-align: right;\n",
       "    }\n",
       "</style>\n",
       "<table border=\"1\" class=\"dataframe\">\n",
       "  <thead>\n",
       "    <tr style=\"text-align: right;\">\n",
       "      <th></th>\n",
       "      <th>Labels</th>\n",
       "      <th>Mots</th>\n",
       "    </tr>\n",
       "  </thead>\n",
       "  <tbody>\n",
       "    <tr>\n",
       "      <th>0</th>\n",
       "      <td>ordonnances</td>\n",
       "      <td>[docteur, nom, prenom, date, de, redaction, qu...</td>\n",
       "    </tr>\n",
       "    <tr>\n",
       "      <th>1</th>\n",
       "      <td>ordonnances</td>\n",
       "      <td>[121, dr, arnaud, provo, rue, daguesseau, 9210...</td>\n",
       "    </tr>\n",
       "  </tbody>\n",
       "</table>\n",
       "</div>"
      ],
      "text/plain": [
       "        Labels                                               Mots\n",
       "0  ordonnances  [docteur, nom, prenom, date, de, redaction, qu...\n",
       "1  ordonnances  [121, dr, arnaud, provo, rue, daguesseau, 9210..."
      ]
     },
     "execution_count": 37,
     "metadata": {},
     "output_type": "execute_result"
    }
   ],
   "source": [
    "data = {'Labels': labels, 'Mots': mots}\n",
    "df = pd.DataFrame(data)\n",
    "df"
   ]
  },
  {
   "cell_type": "code",
   "execution_count": null,
   "metadata": {},
   "outputs": [],
   "source": []
  }
 ],
 "metadata": {
  "kernelspec": {
   "display_name": "Python 3",
   "language": "python",
   "name": "python3"
  },
  "language_info": {
   "codemirror_mode": {
    "name": "ipython",
    "version": 3
   },
   "file_extension": ".py",
   "mimetype": "text/x-python",
   "name": "python",
   "nbconvert_exporter": "python",
   "pygments_lexer": "ipython3",
   "version": "3.10.1"
  }
 },
 "nbformat": 4,
 "nbformat_minor": 2
}
