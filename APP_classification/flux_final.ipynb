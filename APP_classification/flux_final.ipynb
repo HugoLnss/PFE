{
 "cells": [
  {
   "cell_type": "code",
   "execution_count": 15,
   "metadata": {},
   "outputs": [],
   "source": [
    "#Importation des bibliotheques et variables nécéssaires\n",
    "import tensorflow as tf\n"
   ]
  },
  {
   "cell_type": "code",
   "execution_count": null,
   "metadata": {},
   "outputs": [],
   "source": [
    "#On a au préalable entrainé le model qu'on importe ainsi\n",
    "# Chargement du modèle SavedModel\n",
    "loaded_model = tf.keras.models.load_model('C:/Users/hugol/Desktop/cours_ece/test/ML/Flux_final/Model_cat')"
   ]
  },
  {
   "cell_type": "code",
   "execution_count": 5,
   "metadata": {},
   "outputs": [
    {
     "name": "stdout",
     "output_type": "stream",
     "text": [
      "1/1 [==============================] - 0s 186ms/step\n"
     ]
    }
   ],
   "source": [
    "#Modification de l'image pour \n",
    "img_size = (128, 128)\n",
    "new_image_path = 'C:/Users/hugol/Desktop/cours_ece/test/ML/validation/carte-identite-1200x630.jpg'\n",
    "new_image = tf.keras.preprocessing.image.load_img(new_image_path, target_size=img_size)\n",
    "new_image_array = tf.keras.preprocessing.image.img_to_array(new_image)\n",
    "new_image_array = tf.expand_dims(new_image_array, 0)  # Ajoute une dimension pour le lot (batch)\n",
    "\n",
    "# Utilisation du modèle chargé\n",
    "result = loaded_model.predict(new_image_array)  # Remplacez input_data par vos données d'entrée\n"
   ]
  },
  {
   "cell_type": "code",
   "execution_count": 17,
   "metadata": {},
   "outputs": [
    {
     "name": "stdout",
     "output_type": "stream",
     "text": [
      "La classe prédite pour l'image est : ordonnance\n"
     ]
    }
   ],
   "source": [
    "class_names={'ordonnance': 0, 'papier_identite2': 1}\n",
    "predicted_class = tf.argmax(result[0]).numpy()\n",
    "predicted_class_name = [k for k, v in class_names.items() if v == predicted_class][0]\n",
    "\n",
    "print(f'La classe prédite pour l\\'image est : {predicted_class_name}')"
   ]
  },
  {
   "cell_type": "code",
   "execution_count": null,
   "metadata": {},
   "outputs": [],
   "source": [
    "#Maintenant que la catégorie est prédite on cherche la sous catégorie\n",
    "#Apres quand j'aurai un bonne base "
   ]
  },
  {
   "cell_type": "code",
   "execution_count": null,
   "metadata": {},
   "outputs": [],
   "source": [
    "\"\"\"\n",
    "#Importation des bibliotheques et variables nécéssaires\n",
    "import tensorflow as tf\n",
    "#On a au préalable entrainé le model qu'on importe ainsi\n",
    "# Chargement du modèle SavedModel\n",
    "loaded_model = tf.keras.models.load_model('C:/Users/hugol/Desktop/cours_ece/test/ML/Flux_final/Model_cat')\n",
    "#Modification de l'image pour \n",
    "img_size = (128, 128)\n",
    "new_image_path = 'C:/Users/hugol/Desktop/cours_ece/test/ML/validation/carte-identite-1200x630.jpg'\n",
    "new_image = tf.keras.preprocessing.image.load_img(new_image_path, target_size=img_size)\n",
    "new_image_array = tf.keras.preprocessing.image.img_to_array(new_image)\n",
    "new_image_array = tf.expand_dims(new_image_array, 0)  # Ajoute une dimension pour le lot (batch)\n",
    "\n",
    "# Utilisation du modèle chargé\n",
    "result = loaded_model.predict(new_image_array)  # Remplacez input_data par vos données d'entrée\n",
    "class_names={'ordonnance': 0, 'papier_identite2': 1}\n",
    "predicted_class = tf.argmax(result[0]).numpy()\n",
    "predicted_class_name = [k for k, v in class_names.items() if v == predicted_class][0]\n",
    "\n",
    "print(f'La classe prédite pour l\\'image est : {predicted_class_name}')\n",
    "\n",
    "\"\"\""
   ]
  }
 ],
 "metadata": {
  "kernelspec": {
   "display_name": "Python 3",
   "language": "python",
   "name": "python3"
  },
  "language_info": {
   "codemirror_mode": {
    "name": "ipython",
    "version": 3
   },
   "file_extension": ".py",
   "mimetype": "text/x-python",
   "name": "python",
   "nbconvert_exporter": "python",
   "pygments_lexer": "ipython3",
   "version": "3.10.1"
  }
 },
 "nbformat": 4,
 "nbformat_minor": 2
}
